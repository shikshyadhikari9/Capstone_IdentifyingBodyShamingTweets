{
 "cells": [
  {
   "cell_type": "code",
   "execution_count": 1,
   "id": "59837179",
   "metadata": {},
   "outputs": [],
   "source": [
    "#importing necessary packages\n",
    "import pandas as pd\n",
    "import numpy as np\n",
    "from os import path\n",
    "from PIL import Image\n",
    "from wordcloud import WordCloud, STOPWORDS, ImageColorGenerator\n",
    "import matplotlib.pyplot as plt"
   ]
  },
  {
   "cell_type": "markdown",
   "id": "99d1be65",
   "metadata": {},
   "source": [
    "### Data Wrangling Exercise"
   ]
  },
  {
   "cell_type": "markdown",
   "id": "67b837e6",
   "metadata": {},
   "source": [
    "I am using the Twitter Sentiment Analysis Dataset, which can be found here. https://www.kaggle.com/datasets/kazanova/sentiment140. I am using this dataset to build a model that identifies body shaming tweets. "
   ]
  },
  {
   "cell_type": "code",
   "execution_count": 2,
   "id": "e3998c99",
   "metadata": {},
   "outputs": [],
   "source": [
    "data = pd.read_csv('Twittertext.csv', encoding='latin-1', header = None)"
   ]
  },
  {
   "cell_type": "code",
   "execution_count": 3,
   "id": "ef9b502c",
   "metadata": {},
   "outputs": [
    {
     "data": {
      "text/html": [
       "<div>\n",
       "<style scoped>\n",
       "    .dataframe tbody tr th:only-of-type {\n",
       "        vertical-align: middle;\n",
       "    }\n",
       "\n",
       "    .dataframe tbody tr th {\n",
       "        vertical-align: top;\n",
       "    }\n",
       "\n",
       "    .dataframe thead th {\n",
       "        text-align: right;\n",
       "    }\n",
       "</style>\n",
       "<table border=\"1\" class=\"dataframe\">\n",
       "  <thead>\n",
       "    <tr style=\"text-align: right;\">\n",
       "      <th></th>\n",
       "      <th>0</th>\n",
       "      <th>1</th>\n",
       "      <th>2</th>\n",
       "      <th>3</th>\n",
       "      <th>4</th>\n",
       "      <th>5</th>\n",
       "    </tr>\n",
       "  </thead>\n",
       "  <tbody>\n",
       "    <tr>\n",
       "      <th>0</th>\n",
       "      <td>0</td>\n",
       "      <td>1467810369</td>\n",
       "      <td>Mon Apr 06 22:19:45 PDT 2009</td>\n",
       "      <td>NO_QUERY</td>\n",
       "      <td>_TheSpecialOne_</td>\n",
       "      <td>@switchfoot http://twitpic.com/2y1zl - Awww, t...</td>\n",
       "    </tr>\n",
       "    <tr>\n",
       "      <th>1</th>\n",
       "      <td>0</td>\n",
       "      <td>1467810672</td>\n",
       "      <td>Mon Apr 06 22:19:49 PDT 2009</td>\n",
       "      <td>NO_QUERY</td>\n",
       "      <td>scotthamilton</td>\n",
       "      <td>is upset that he can't update his Facebook by ...</td>\n",
       "    </tr>\n",
       "    <tr>\n",
       "      <th>2</th>\n",
       "      <td>0</td>\n",
       "      <td>1467810917</td>\n",
       "      <td>Mon Apr 06 22:19:53 PDT 2009</td>\n",
       "      <td>NO_QUERY</td>\n",
       "      <td>mattycus</td>\n",
       "      <td>@Kenichan I dived many times for the ball. Man...</td>\n",
       "    </tr>\n",
       "    <tr>\n",
       "      <th>3</th>\n",
       "      <td>0</td>\n",
       "      <td>1467811184</td>\n",
       "      <td>Mon Apr 06 22:19:57 PDT 2009</td>\n",
       "      <td>NO_QUERY</td>\n",
       "      <td>ElleCTF</td>\n",
       "      <td>my whole body feels itchy and like its on fire</td>\n",
       "    </tr>\n",
       "    <tr>\n",
       "      <th>4</th>\n",
       "      <td>0</td>\n",
       "      <td>1467811193</td>\n",
       "      <td>Mon Apr 06 22:19:57 PDT 2009</td>\n",
       "      <td>NO_QUERY</td>\n",
       "      <td>Karoli</td>\n",
       "      <td>@nationwideclass no, it's not behaving at all....</td>\n",
       "    </tr>\n",
       "  </tbody>\n",
       "</table>\n",
       "</div>"
      ],
      "text/plain": [
       "   0           1                             2         3                4  \\\n",
       "0  0  1467810369  Mon Apr 06 22:19:45 PDT 2009  NO_QUERY  _TheSpecialOne_   \n",
       "1  0  1467810672  Mon Apr 06 22:19:49 PDT 2009  NO_QUERY    scotthamilton   \n",
       "2  0  1467810917  Mon Apr 06 22:19:53 PDT 2009  NO_QUERY         mattycus   \n",
       "3  0  1467811184  Mon Apr 06 22:19:57 PDT 2009  NO_QUERY          ElleCTF   \n",
       "4  0  1467811193  Mon Apr 06 22:19:57 PDT 2009  NO_QUERY           Karoli   \n",
       "\n",
       "                                                   5  \n",
       "0  @switchfoot http://twitpic.com/2y1zl - Awww, t...  \n",
       "1  is upset that he can't update his Facebook by ...  \n",
       "2  @Kenichan I dived many times for the ball. Man...  \n",
       "3    my whole body feels itchy and like its on fire   \n",
       "4  @nationwideclass no, it's not behaving at all....  "
      ]
     },
     "execution_count": 3,
     "metadata": {},
     "output_type": "execute_result"
    }
   ],
   "source": [
    "data.head()"
   ]
  },
  {
   "cell_type": "code",
   "execution_count": 4,
   "id": "86d828e8",
   "metadata": {},
   "outputs": [
    {
     "data": {
      "text/html": [
       "<div>\n",
       "<style scoped>\n",
       "    .dataframe tbody tr th:only-of-type {\n",
       "        vertical-align: middle;\n",
       "    }\n",
       "\n",
       "    .dataframe tbody tr th {\n",
       "        vertical-align: top;\n",
       "    }\n",
       "\n",
       "    .dataframe thead th {\n",
       "        text-align: right;\n",
       "    }\n",
       "</style>\n",
       "<table border=\"1\" class=\"dataframe\">\n",
       "  <thead>\n",
       "    <tr style=\"text-align: right;\">\n",
       "      <th></th>\n",
       "      <th>0</th>\n",
       "      <th>1</th>\n",
       "      <th>2</th>\n",
       "      <th>3</th>\n",
       "      <th>4</th>\n",
       "      <th>5</th>\n",
       "    </tr>\n",
       "  </thead>\n",
       "  <tbody>\n",
       "    <tr>\n",
       "      <th>755665</th>\n",
       "      <td>0</td>\n",
       "      <td>2288402080</td>\n",
       "      <td>Mon Jun 22 19:06:55 PDT 2009</td>\n",
       "      <td>NO_QUERY</td>\n",
       "      <td>TaraPants</td>\n",
       "      <td>Only saw the last few mins of Jon and Kate but...</td>\n",
       "    </tr>\n",
       "    <tr>\n",
       "      <th>481381</th>\n",
       "      <td>0</td>\n",
       "      <td>2179620058</td>\n",
       "      <td>Mon Jun 15 09:21:11 PDT 2009</td>\n",
       "      <td>NO_QUERY</td>\n",
       "      <td>VelvetLace</td>\n",
       "      <td>@Michael_Cera I couldn't make it to Alexa Chun...</td>\n",
       "    </tr>\n",
       "    <tr>\n",
       "      <th>393179</th>\n",
       "      <td>0</td>\n",
       "      <td>2055335013</td>\n",
       "      <td>Sat Jun 06 09:07:43 PDT 2009</td>\n",
       "      <td>NO_QUERY</td>\n",
       "      <td>Najooj</td>\n",
       "      <td>@OmarKassem ....should i be offended?!?! that ...</td>\n",
       "    </tr>\n",
       "    <tr>\n",
       "      <th>426711</th>\n",
       "      <td>0</td>\n",
       "      <td>2063591506</td>\n",
       "      <td>Sun Jun 07 03:17:09 PDT 2009</td>\n",
       "      <td>NO_QUERY</td>\n",
       "      <td>jjjohannaaa</td>\n",
       "      <td>@JessicaViberg I also feel fat  .. need to exe...</td>\n",
       "    </tr>\n",
       "    <tr>\n",
       "      <th>1409745</th>\n",
       "      <td>4</td>\n",
       "      <td>2056081643</td>\n",
       "      <td>Sat Jun 06 10:29:36 PDT 2009</td>\n",
       "      <td>NO_QUERY</td>\n",
       "      <td>mrdpa</td>\n",
       "      <td>4 weeks off the booze today  can't believe I'v...</td>\n",
       "    </tr>\n",
       "    <tr>\n",
       "      <th>529553</th>\n",
       "      <td>0</td>\n",
       "      <td>2195510114</td>\n",
       "      <td>Tue Jun 16 11:13:40 PDT 2009</td>\n",
       "      <td>NO_QUERY</td>\n",
       "      <td>colep010</td>\n",
       "      <td>@pippsqueak sounds lovely, unfortunately i hav...</td>\n",
       "    </tr>\n",
       "    <tr>\n",
       "      <th>812365</th>\n",
       "      <td>4</td>\n",
       "      <td>1548349463</td>\n",
       "      <td>Fri Apr 17 20:42:34 PDT 2009</td>\n",
       "      <td>NO_QUERY</td>\n",
       "      <td>kiss_myy_sasss</td>\n",
       "      <td>oh! I was like  when Cobra played 'Smile for t...</td>\n",
       "    </tr>\n",
       "    <tr>\n",
       "      <th>1014700</th>\n",
       "      <td>4</td>\n",
       "      <td>1881464730</td>\n",
       "      <td>Fri May 22 04:44:26 PDT 2009</td>\n",
       "      <td>NO_QUERY</td>\n",
       "      <td>j4yloh</td>\n",
       "      <td>Pr Andy just said something really profound: &amp;...</td>\n",
       "    </tr>\n",
       "    <tr>\n",
       "      <th>873574</th>\n",
       "      <td>4</td>\n",
       "      <td>1679453416</td>\n",
       "      <td>Sat May 02 09:23:32 PDT 2009</td>\n",
       "      <td>NO_QUERY</td>\n",
       "      <td>natalie_erin_1</td>\n",
       "      <td>Another day to enjoy with my lovely girlfriend...</td>\n",
       "    </tr>\n",
       "    <tr>\n",
       "      <th>133929</th>\n",
       "      <td>0</td>\n",
       "      <td>1836128014</td>\n",
       "      <td>Mon May 18 07:25:31 PDT 2009</td>\n",
       "      <td>NO_QUERY</td>\n",
       "      <td>Stuartmcminigal</td>\n",
       "      <td>@lucyrowse why are you so horrible towards me!</td>\n",
       "    </tr>\n",
       "    <tr>\n",
       "      <th>1053199</th>\n",
       "      <td>4</td>\n",
       "      <td>1961614798</td>\n",
       "      <td>Fri May 29 09:46:37 PDT 2009</td>\n",
       "      <td>NO_QUERY</td>\n",
       "      <td>rachaelwowzie</td>\n",
       "      <td>going to the mill tonight. plenty of pictures ...</td>\n",
       "    </tr>\n",
       "    <tr>\n",
       "      <th>1027625</th>\n",
       "      <td>4</td>\n",
       "      <td>1932480559</td>\n",
       "      <td>Tue May 26 21:33:12 PDT 2009</td>\n",
       "      <td>NO_QUERY</td>\n",
       "      <td>MelanieKissell</td>\n",
       "      <td>@nuimage4u So glad you liked the quote - just ...</td>\n",
       "    </tr>\n",
       "    <tr>\n",
       "      <th>345731</th>\n",
       "      <td>0</td>\n",
       "      <td>2015984365</td>\n",
       "      <td>Wed Jun 03 05:56:25 PDT 2009</td>\n",
       "      <td>NO_QUERY</td>\n",
       "      <td>dani1772</td>\n",
       "      <td>really hate being up this early when I don't h...</td>\n",
       "    </tr>\n",
       "    <tr>\n",
       "      <th>1336858</th>\n",
       "      <td>4</td>\n",
       "      <td>2017422025</td>\n",
       "      <td>Wed Jun 03 08:21:54 PDT 2009</td>\n",
       "      <td>NO_QUERY</td>\n",
       "      <td>CharmsOfLight</td>\n",
       "      <td>The chakra spread sounds absolutely wonderful ...</td>\n",
       "    </tr>\n",
       "    <tr>\n",
       "      <th>1577185</th>\n",
       "      <td>4</td>\n",
       "      <td>2189645236</td>\n",
       "      <td>Tue Jun 16 00:32:18 PDT 2009</td>\n",
       "      <td>NO_QUERY</td>\n",
       "      <td>muzikdoll</td>\n",
       "      <td>@HoneyMagazine Good lookin out....  It's done!</td>\n",
       "    </tr>\n",
       "    <tr>\n",
       "      <th>1540418</th>\n",
       "      <td>4</td>\n",
       "      <td>2180427865</td>\n",
       "      <td>Mon Jun 15 10:27:26 PDT 2009</td>\n",
       "      <td>NO_QUERY</td>\n",
       "      <td>emmadauplaisee</td>\n",
       "      <td>Just woke up,</td>\n",
       "    </tr>\n",
       "    <tr>\n",
       "      <th>38910</th>\n",
       "      <td>0</td>\n",
       "      <td>1573394378</td>\n",
       "      <td>Tue Apr 21 00:58:20 PDT 2009</td>\n",
       "      <td>NO_QUERY</td>\n",
       "      <td>ActOut</td>\n",
       "      <td>My phone won't upload any photos to facebook. ...</td>\n",
       "    </tr>\n",
       "    <tr>\n",
       "      <th>808456</th>\n",
       "      <td>4</td>\n",
       "      <td>1469220983</td>\n",
       "      <td>Tue Apr 07 05:39:31 PDT 2009</td>\n",
       "      <td>NO_QUERY</td>\n",
       "      <td>bubblesoda</td>\n",
       "      <td>what a great to start the day! (L)</td>\n",
       "    </tr>\n",
       "    <tr>\n",
       "      <th>633502</th>\n",
       "      <td>0</td>\n",
       "      <td>2233021874</td>\n",
       "      <td>Thu Jun 18 20:43:24 PDT 2009</td>\n",
       "      <td>NO_QUERY</td>\n",
       "      <td>Bellamort_</td>\n",
       "      <td>@Voldymort ooc: Sigh. Im so bummed though.</td>\n",
       "    </tr>\n",
       "    <tr>\n",
       "      <th>636665</th>\n",
       "      <td>0</td>\n",
       "      <td>2233976482</td>\n",
       "      <td>Thu Jun 18 22:12:53 PDT 2009</td>\n",
       "      <td>NO_QUERY</td>\n",
       "      <td>kaytee1626</td>\n",
       "      <td>waiting for ceh to reply..haha..my resto city ...</td>\n",
       "    </tr>\n",
       "  </tbody>\n",
       "</table>\n",
       "</div>"
      ],
      "text/plain": [
       "         0           1                             2         3  \\\n",
       "755665   0  2288402080  Mon Jun 22 19:06:55 PDT 2009  NO_QUERY   \n",
       "481381   0  2179620058  Mon Jun 15 09:21:11 PDT 2009  NO_QUERY   \n",
       "393179   0  2055335013  Sat Jun 06 09:07:43 PDT 2009  NO_QUERY   \n",
       "426711   0  2063591506  Sun Jun 07 03:17:09 PDT 2009  NO_QUERY   \n",
       "1409745  4  2056081643  Sat Jun 06 10:29:36 PDT 2009  NO_QUERY   \n",
       "529553   0  2195510114  Tue Jun 16 11:13:40 PDT 2009  NO_QUERY   \n",
       "812365   4  1548349463  Fri Apr 17 20:42:34 PDT 2009  NO_QUERY   \n",
       "1014700  4  1881464730  Fri May 22 04:44:26 PDT 2009  NO_QUERY   \n",
       "873574   4  1679453416  Sat May 02 09:23:32 PDT 2009  NO_QUERY   \n",
       "133929   0  1836128014  Mon May 18 07:25:31 PDT 2009  NO_QUERY   \n",
       "1053199  4  1961614798  Fri May 29 09:46:37 PDT 2009  NO_QUERY   \n",
       "1027625  4  1932480559  Tue May 26 21:33:12 PDT 2009  NO_QUERY   \n",
       "345731   0  2015984365  Wed Jun 03 05:56:25 PDT 2009  NO_QUERY   \n",
       "1336858  4  2017422025  Wed Jun 03 08:21:54 PDT 2009  NO_QUERY   \n",
       "1577185  4  2189645236  Tue Jun 16 00:32:18 PDT 2009  NO_QUERY   \n",
       "1540418  4  2180427865  Mon Jun 15 10:27:26 PDT 2009  NO_QUERY   \n",
       "38910    0  1573394378  Tue Apr 21 00:58:20 PDT 2009  NO_QUERY   \n",
       "808456   4  1469220983  Tue Apr 07 05:39:31 PDT 2009  NO_QUERY   \n",
       "633502   0  2233021874  Thu Jun 18 20:43:24 PDT 2009  NO_QUERY   \n",
       "636665   0  2233976482  Thu Jun 18 22:12:53 PDT 2009  NO_QUERY   \n",
       "\n",
       "                       4                                                  5  \n",
       "755665         TaraPants  Only saw the last few mins of Jon and Kate but...  \n",
       "481381        VelvetLace  @Michael_Cera I couldn't make it to Alexa Chun...  \n",
       "393179            Najooj  @OmarKassem ....should i be offended?!?! that ...  \n",
       "426711       jjjohannaaa  @JessicaViberg I also feel fat  .. need to exe...  \n",
       "1409745            mrdpa  4 weeks off the booze today  can't believe I'v...  \n",
       "529553          colep010  @pippsqueak sounds lovely, unfortunately i hav...  \n",
       "812365    kiss_myy_sasss  oh! I was like  when Cobra played 'Smile for t...  \n",
       "1014700           j4yloh  Pr Andy just said something really profound: &...  \n",
       "873574    natalie_erin_1  Another day to enjoy with my lovely girlfriend...  \n",
       "133929   Stuartmcminigal    @lucyrowse why are you so horrible towards me!   \n",
       "1053199    rachaelwowzie  going to the mill tonight. plenty of pictures ...  \n",
       "1027625   MelanieKissell  @nuimage4u So glad you liked the quote - just ...  \n",
       "345731          dani1772  really hate being up this early when I don't h...  \n",
       "1336858    CharmsOfLight  The chakra spread sounds absolutely wonderful ...  \n",
       "1577185        muzikdoll     @HoneyMagazine Good lookin out....  It's done!  \n",
       "1540418   emmadauplaisee                                     Just woke up,   \n",
       "38910             ActOut  My phone won't upload any photos to facebook. ...  \n",
       "808456        bubblesoda                what a great to start the day! (L)   \n",
       "633502        Bellamort_        @Voldymort ooc: Sigh. Im so bummed though.   \n",
       "636665        kaytee1626  waiting for ceh to reply..haha..my resto city ...  "
      ]
     },
     "execution_count": 4,
     "metadata": {},
     "output_type": "execute_result"
    }
   ],
   "source": [
    "data.sample(20)"
   ]
  },
  {
   "cell_type": "code",
   "execution_count": 5,
   "id": "b588dc04",
   "metadata": {},
   "outputs": [],
   "source": [
    "#renaming columns\n",
    "data = data.rename(columns = {0: 'polarity', 1: 'ids', 2: 'date', 3: 'flag', 4: 'user', 5: 'text'})"
   ]
  },
  {
   "cell_type": "code",
   "execution_count": 6,
   "id": "8c49f2a0",
   "metadata": {},
   "outputs": [
    {
     "data": {
      "text/html": [
       "<div>\n",
       "<style scoped>\n",
       "    .dataframe tbody tr th:only-of-type {\n",
       "        vertical-align: middle;\n",
       "    }\n",
       "\n",
       "    .dataframe tbody tr th {\n",
       "        vertical-align: top;\n",
       "    }\n",
       "\n",
       "    .dataframe thead th {\n",
       "        text-align: right;\n",
       "    }\n",
       "</style>\n",
       "<table border=\"1\" class=\"dataframe\">\n",
       "  <thead>\n",
       "    <tr style=\"text-align: right;\">\n",
       "      <th></th>\n",
       "      <th>polarity</th>\n",
       "      <th>ids</th>\n",
       "      <th>date</th>\n",
       "      <th>flag</th>\n",
       "      <th>user</th>\n",
       "      <th>text</th>\n",
       "    </tr>\n",
       "  </thead>\n",
       "  <tbody>\n",
       "    <tr>\n",
       "      <th>0</th>\n",
       "      <td>0</td>\n",
       "      <td>1467810369</td>\n",
       "      <td>Mon Apr 06 22:19:45 PDT 2009</td>\n",
       "      <td>NO_QUERY</td>\n",
       "      <td>_TheSpecialOne_</td>\n",
       "      <td>@switchfoot http://twitpic.com/2y1zl - Awww, t...</td>\n",
       "    </tr>\n",
       "    <tr>\n",
       "      <th>1</th>\n",
       "      <td>0</td>\n",
       "      <td>1467810672</td>\n",
       "      <td>Mon Apr 06 22:19:49 PDT 2009</td>\n",
       "      <td>NO_QUERY</td>\n",
       "      <td>scotthamilton</td>\n",
       "      <td>is upset that he can't update his Facebook by ...</td>\n",
       "    </tr>\n",
       "    <tr>\n",
       "      <th>2</th>\n",
       "      <td>0</td>\n",
       "      <td>1467810917</td>\n",
       "      <td>Mon Apr 06 22:19:53 PDT 2009</td>\n",
       "      <td>NO_QUERY</td>\n",
       "      <td>mattycus</td>\n",
       "      <td>@Kenichan I dived many times for the ball. Man...</td>\n",
       "    </tr>\n",
       "    <tr>\n",
       "      <th>3</th>\n",
       "      <td>0</td>\n",
       "      <td>1467811184</td>\n",
       "      <td>Mon Apr 06 22:19:57 PDT 2009</td>\n",
       "      <td>NO_QUERY</td>\n",
       "      <td>ElleCTF</td>\n",
       "      <td>my whole body feels itchy and like its on fire</td>\n",
       "    </tr>\n",
       "    <tr>\n",
       "      <th>4</th>\n",
       "      <td>0</td>\n",
       "      <td>1467811193</td>\n",
       "      <td>Mon Apr 06 22:19:57 PDT 2009</td>\n",
       "      <td>NO_QUERY</td>\n",
       "      <td>Karoli</td>\n",
       "      <td>@nationwideclass no, it's not behaving at all....</td>\n",
       "    </tr>\n",
       "  </tbody>\n",
       "</table>\n",
       "</div>"
      ],
      "text/plain": [
       "   polarity         ids                          date      flag  \\\n",
       "0         0  1467810369  Mon Apr 06 22:19:45 PDT 2009  NO_QUERY   \n",
       "1         0  1467810672  Mon Apr 06 22:19:49 PDT 2009  NO_QUERY   \n",
       "2         0  1467810917  Mon Apr 06 22:19:53 PDT 2009  NO_QUERY   \n",
       "3         0  1467811184  Mon Apr 06 22:19:57 PDT 2009  NO_QUERY   \n",
       "4         0  1467811193  Mon Apr 06 22:19:57 PDT 2009  NO_QUERY   \n",
       "\n",
       "              user                                               text  \n",
       "0  _TheSpecialOne_  @switchfoot http://twitpic.com/2y1zl - Awww, t...  \n",
       "1    scotthamilton  is upset that he can't update his Facebook by ...  \n",
       "2         mattycus  @Kenichan I dived many times for the ball. Man...  \n",
       "3          ElleCTF    my whole body feels itchy and like its on fire   \n",
       "4           Karoli  @nationwideclass no, it's not behaving at all....  "
      ]
     },
     "execution_count": 6,
     "metadata": {},
     "output_type": "execute_result"
    }
   ],
   "source": [
    "data.head()\n",
    "# In the sentiment analysis dataset, 0: negative, 2: neutral, 4: positive \n"
   ]
  },
  {
   "cell_type": "code",
   "execution_count": 7,
   "id": "d53c4e4c",
   "metadata": {},
   "outputs": [
    {
     "data": {
      "text/plain": [
       "(1600000, 6)"
      ]
     },
     "execution_count": 7,
     "metadata": {},
     "output_type": "execute_result"
    }
   ],
   "source": [
    "data.shape"
   ]
  },
  {
   "cell_type": "code",
   "execution_count": 8,
   "id": "8367a56c",
   "metadata": {},
   "outputs": [
    {
     "name": "stdout",
     "output_type": "stream",
     "text": [
      "<class 'pandas.core.frame.DataFrame'>\n",
      "RangeIndex: 1600000 entries, 0 to 1599999\n",
      "Data columns (total 6 columns):\n",
      " #   Column    Non-Null Count    Dtype \n",
      "---  ------    --------------    ----- \n",
      " 0   polarity  1600000 non-null  int64 \n",
      " 1   ids       1600000 non-null  int64 \n",
      " 2   date      1600000 non-null  object\n",
      " 3   flag      1600000 non-null  object\n",
      " 4   user      1600000 non-null  object\n",
      " 5   text      1600000 non-null  object\n",
      "dtypes: int64(2), object(4)\n",
      "memory usage: 73.2+ MB\n"
     ]
    }
   ],
   "source": [
    "data.info()"
   ]
  },
  {
   "cell_type": "markdown",
   "id": "415b393a",
   "metadata": {},
   "source": [
    "The next steps are to ensure that the texts are readable and analyzable. I will remove any numbers or symbols from the text because they are of no analytical importance."
   ]
  },
  {
   "cell_type": "code",
   "execution_count": 9,
   "id": "71c976c4",
   "metadata": {},
   "outputs": [],
   "source": [
    "#https://stackoverflow.com/questions/25292838/applying-regex-to-a-pandas-dataframe\n",
    "import re\n",
    "\n",
    "# def string(column):\n",
    "#     re.sub(r'[^a-zA-Z\\s\\t]+', \"\", column)   \n",
    "#data['text2'] = data['text'].apply(string)\n",
    "#df['Season2'] = df['Season'].apply(split_it)\n",
    "# import re\n",
    "# re.sub(r'[^a-zA-Z\\s\\t]+', \"\", list_text)"
   ]
  },
  {
   "cell_type": "code",
   "execution_count": 10,
   "id": "adb5b5c8",
   "metadata": {},
   "outputs": [],
   "source": [
    "data['text2'] = data['text'].astype(str)"
   ]
  },
  {
   "cell_type": "code",
   "execution_count": 11,
   "id": "37fef8c1",
   "metadata": {},
   "outputs": [
    {
     "data": {
      "text/html": [
       "<div>\n",
       "<style scoped>\n",
       "    .dataframe tbody tr th:only-of-type {\n",
       "        vertical-align: middle;\n",
       "    }\n",
       "\n",
       "    .dataframe tbody tr th {\n",
       "        vertical-align: top;\n",
       "    }\n",
       "\n",
       "    .dataframe thead th {\n",
       "        text-align: right;\n",
       "    }\n",
       "</style>\n",
       "<table border=\"1\" class=\"dataframe\">\n",
       "  <thead>\n",
       "    <tr style=\"text-align: right;\">\n",
       "      <th></th>\n",
       "      <th>polarity</th>\n",
       "      <th>ids</th>\n",
       "      <th>date</th>\n",
       "      <th>flag</th>\n",
       "      <th>user</th>\n",
       "      <th>text</th>\n",
       "      <th>text2</th>\n",
       "    </tr>\n",
       "  </thead>\n",
       "  <tbody>\n",
       "    <tr>\n",
       "      <th>0</th>\n",
       "      <td>0</td>\n",
       "      <td>1467810369</td>\n",
       "      <td>Mon Apr 06 22:19:45 PDT 2009</td>\n",
       "      <td>NO_QUERY</td>\n",
       "      <td>_TheSpecialOne_</td>\n",
       "      <td>@switchfoot http://twitpic.com/2y1zl - Awww, t...</td>\n",
       "      <td>@switchfoot http://twitpic.com/2y1zl - Awww, t...</td>\n",
       "    </tr>\n",
       "    <tr>\n",
       "      <th>1</th>\n",
       "      <td>0</td>\n",
       "      <td>1467810672</td>\n",
       "      <td>Mon Apr 06 22:19:49 PDT 2009</td>\n",
       "      <td>NO_QUERY</td>\n",
       "      <td>scotthamilton</td>\n",
       "      <td>is upset that he can't update his Facebook by ...</td>\n",
       "      <td>is upset that he can't update his Facebook by ...</td>\n",
       "    </tr>\n",
       "    <tr>\n",
       "      <th>2</th>\n",
       "      <td>0</td>\n",
       "      <td>1467810917</td>\n",
       "      <td>Mon Apr 06 22:19:53 PDT 2009</td>\n",
       "      <td>NO_QUERY</td>\n",
       "      <td>mattycus</td>\n",
       "      <td>@Kenichan I dived many times for the ball. Man...</td>\n",
       "      <td>@Kenichan I dived many times for the ball. Man...</td>\n",
       "    </tr>\n",
       "    <tr>\n",
       "      <th>3</th>\n",
       "      <td>0</td>\n",
       "      <td>1467811184</td>\n",
       "      <td>Mon Apr 06 22:19:57 PDT 2009</td>\n",
       "      <td>NO_QUERY</td>\n",
       "      <td>ElleCTF</td>\n",
       "      <td>my whole body feels itchy and like its on fire</td>\n",
       "      <td>my whole body feels itchy and like its on fire</td>\n",
       "    </tr>\n",
       "    <tr>\n",
       "      <th>4</th>\n",
       "      <td>0</td>\n",
       "      <td>1467811193</td>\n",
       "      <td>Mon Apr 06 22:19:57 PDT 2009</td>\n",
       "      <td>NO_QUERY</td>\n",
       "      <td>Karoli</td>\n",
       "      <td>@nationwideclass no, it's not behaving at all....</td>\n",
       "      <td>@nationwideclass no, it's not behaving at all....</td>\n",
       "    </tr>\n",
       "  </tbody>\n",
       "</table>\n",
       "</div>"
      ],
      "text/plain": [
       "   polarity         ids                          date      flag  \\\n",
       "0         0  1467810369  Mon Apr 06 22:19:45 PDT 2009  NO_QUERY   \n",
       "1         0  1467810672  Mon Apr 06 22:19:49 PDT 2009  NO_QUERY   \n",
       "2         0  1467810917  Mon Apr 06 22:19:53 PDT 2009  NO_QUERY   \n",
       "3         0  1467811184  Mon Apr 06 22:19:57 PDT 2009  NO_QUERY   \n",
       "4         0  1467811193  Mon Apr 06 22:19:57 PDT 2009  NO_QUERY   \n",
       "\n",
       "              user                                               text  \\\n",
       "0  _TheSpecialOne_  @switchfoot http://twitpic.com/2y1zl - Awww, t...   \n",
       "1    scotthamilton  is upset that he can't update his Facebook by ...   \n",
       "2         mattycus  @Kenichan I dived many times for the ball. Man...   \n",
       "3          ElleCTF    my whole body feels itchy and like its on fire    \n",
       "4           Karoli  @nationwideclass no, it's not behaving at all....   \n",
       "\n",
       "                                               text2  \n",
       "0  @switchfoot http://twitpic.com/2y1zl - Awww, t...  \n",
       "1  is upset that he can't update his Facebook by ...  \n",
       "2  @Kenichan I dived many times for the ball. Man...  \n",
       "3    my whole body feels itchy and like its on fire   \n",
       "4  @nationwideclass no, it's not behaving at all....  "
      ]
     },
     "execution_count": 11,
     "metadata": {},
     "output_type": "execute_result"
    }
   ],
   "source": [
    "data.head()"
   ]
  },
  {
   "cell_type": "code",
   "execution_count": 12,
   "id": "7537e9ce",
   "metadata": {},
   "outputs": [
    {
     "ename": "NameError",
     "evalue": "name 'df' is not defined",
     "output_type": "error",
     "traceback": [
      "\u001b[0;31m---------------------------------------------------------------------------\u001b[0m",
      "\u001b[0;31mNameError\u001b[0m                                 Traceback (most recent call last)",
      "\u001b[0;32m<ipython-input-12-62598f141891>\u001b[0m in \u001b[0;36m<module>\u001b[0;34m\u001b[0m\n\u001b[1;32m      1\u001b[0m \u001b[0;31m#this is to store it as a string\u001b[0m\u001b[0;34m\u001b[0m\u001b[0;34m\u001b[0m\u001b[0;34m\u001b[0m\u001b[0m\n\u001b[0;32m----> 2\u001b[0;31m \u001b[0mdf\u001b[0m\u001b[0;34m[\u001b[0m\u001b[0;34m'text2'\u001b[0m\u001b[0;34m]\u001b[0m \u001b[0;34m=\u001b[0m \u001b[0mdf\u001b[0m\u001b[0;34m[\u001b[0m\u001b[0;34m'text'\u001b[0m\u001b[0;34m]\u001b[0m\u001b[0;34m.\u001b[0m\u001b[0mastype\u001b[0m\u001b[0;34m(\u001b[0m\u001b[0;34m'|S'\u001b[0m\u001b[0;34m)\u001b[0m\u001b[0;34m\u001b[0m\u001b[0;34m\u001b[0m\u001b[0m\n\u001b[0m",
      "\u001b[0;31mNameError\u001b[0m: name 'df' is not defined"
     ]
    }
   ],
   "source": [
    "#this is to store it as a string\n",
    "df['text2'] = df['text'].astype('|S')"
   ]
  },
  {
   "cell_type": "code",
   "execution_count": null,
   "id": "95aeecf1",
   "metadata": {},
   "outputs": [],
   "source": [
    "data.info()"
   ]
  },
  {
   "cell_type": "code",
   "execution_count": null,
   "id": "5d560ea4",
   "metadata": {},
   "outputs": [],
   "source": [
    "#using regular expression\n",
    "data['text_2'] =  data['text2'].apply(lambda x: re.sub(r'[^a-zA-Z\\s\\t]+', \"\", str(x)))"
   ]
  },
  {
   "cell_type": "code",
   "execution_count": null,
   "id": "283c7132",
   "metadata": {},
   "outputs": [],
   "source": [
    "data.head()"
   ]
  },
  {
   "cell_type": "code",
   "execution_count": null,
   "id": "b0c54017",
   "metadata": {},
   "outputs": [],
   "source": [
    "data.info()"
   ]
  },
  {
   "cell_type": "code",
   "execution_count": null,
   "id": "636b6cc5",
   "metadata": {},
   "outputs": [],
   "source": [
    "data['text_2'] = data['text_2'].astype(str)"
   ]
  },
  {
   "cell_type": "code",
   "execution_count": null,
   "id": "8b76245f",
   "metadata": {},
   "outputs": [],
   "source": [
    "data.info()"
   ]
  },
  {
   "cell_type": "code",
   "execution_count": null,
   "id": "0576d1d3",
   "metadata": {},
   "outputs": [],
   "source": [
    "text = data['text_2']"
   ]
  },
  {
   "cell_type": "markdown",
   "id": "8a12e548",
   "metadata": {},
   "source": [
    "At this point, I am going to explore the corpus of my texts and see which words are the most common. I am going to use a wordcloud generator."
   ]
  },
  {
   "cell_type": "code",
   "execution_count": null,
   "id": "f97f50b0",
   "metadata": {},
   "outputs": [],
   "source": [
    "#https://www.datacamp.com/community/tutorials/wordcloud-python\n",
    "wordcloud = WordCloud().generate(\" \".join(text))"
   ]
  },
  {
   "cell_type": "code",
   "execution_count": null,
   "id": "00f173f8",
   "metadata": {},
   "outputs": [],
   "source": [
    "plt.imshow(wordcloud, interpolation='bilinear')\n",
    "plt.axis(\"off\")\n",
    "plt.show()"
   ]
  },
  {
   "cell_type": "markdown",
   "id": "ab055ad3",
   "metadata": {},
   "source": [
    "The most common words here are not of interest to my analysis. I will therefore look at tweets that contain some of the most common body shaming related words and generate a word cloud and bar graph out of those tweets. "
   ]
  },
  {
   "cell_type": "code",
   "execution_count": null,
   "id": "3c830c42",
   "metadata": {},
   "outputs": [],
   "source": [
    "#my_vocab = ['ugly body', 'fat body', 'dark skin', 'big body', 'fat ass', 'big boobs', 'hairy', 'hate body', 'heavy body', 'big tummy', 'fat chicks', 'fat girls', 'fat boy', 'fat guys', 'short chicks', 'short guys', 'short man', 'jiggle']"
   ]
  },
  {
   "cell_type": "code",
   "execution_count": null,
   "id": "aea8e6f4",
   "metadata": {},
   "outputs": [],
   "source": [
    "my_vocab = ['ugly', 'fat', 'body', 'dark', 'heavy', 'jiggle', 'short', 'tall', 'skinny']"
   ]
  },
  {
   "cell_type": "code",
   "execution_count": null,
   "id": "9dae0f6c",
   "metadata": {},
   "outputs": [],
   "source": [
    "#data1 = data[data['text_2'].isin(my_vocab)]"
   ]
  },
  {
   "cell_type": "code",
   "execution_count": null,
   "id": "5b3e175f",
   "metadata": {},
   "outputs": [],
   "source": [
    "#https://stackoverflow.com/questions/28914078/filter-out-rows-based-on-list-of-strings-in-pandas\n",
    "data['vocab'] = np.where(data.text_2.str.contains('|'.join(my_vocab)),1,0)"
   ]
  },
  {
   "cell_type": "code",
   "execution_count": null,
   "id": "e764c082",
   "metadata": {},
   "outputs": [],
   "source": [
    "data.head()"
   ]
  },
  {
   "cell_type": "code",
   "execution_count": null,
   "id": "94a69df5",
   "metadata": {},
   "outputs": [],
   "source": [
    "#filtering for tweets that contain the words in my list. \n",
    "data1 = data[data['vocab'] == 1]"
   ]
  },
  {
   "cell_type": "code",
   "execution_count": null,
   "id": "8c2d8d05",
   "metadata": {},
   "outputs": [],
   "source": [
    "data1.head()"
   ]
  },
  {
   "cell_type": "code",
   "execution_count": null,
   "id": "6017b6e0",
   "metadata": {},
   "outputs": [],
   "source": [
    "text1 = data1['text_2']"
   ]
  },
  {
   "cell_type": "markdown",
   "id": "a24cb8bd",
   "metadata": {},
   "source": [
    "Next step would be to remove stop words."
   ]
  },
  {
   "cell_type": "code",
   "execution_count": null,
   "id": "94f1942a",
   "metadata": {},
   "outputs": [],
   "source": [
    "#https://openclassrooms.com/en/courses/6532301-introduction-to-natural-language-processing/6980726-remove-stop-words-from-a-block-of-text\n",
    "\n",
    "from collections import Counter\n",
    "# # transform the text into a list of words\n",
    "# words_list = text1.split(' ')\n",
    "# define the list of words you want to remove from the text\n",
    "stopwords = ['the', 'of', 'and', 'is','to','in','a','from','by','that', 'with', 'this', 'as', 'an', 'are','its', 'at', 'for']\n",
    "# use a python list comprehension to remove the stopwords from words_list\n",
    "words_without_stopwords = [ word for word in text1 if word not in stopwords ]\n"
   ]
  },
  {
   "cell_type": "code",
   "execution_count": null,
   "id": "01982a0b",
   "metadata": {},
   "outputs": [],
   "source": [
    "wordcloud1 = WordCloud().generate(\" \".join(words_without_stopwords))"
   ]
  },
  {
   "cell_type": "code",
   "execution_count": null,
   "id": "0ed5addf",
   "metadata": {},
   "outputs": [],
   "source": [
    "plt.imshow(wordcloud1, interpolation='bilinear')\n",
    "plt.axis(\"off\")\n",
    "plt.show()"
   ]
  },
  {
   "cell_type": "markdown",
   "id": "37410803",
   "metadata": {},
   "source": [
    "It is interesting that 'dark', 'body', 'short', 'ugly' are some of the most common words. "
   ]
  },
  {
   "cell_type": "markdown",
   "id": "fb698914",
   "metadata": {},
   "source": [
    "Next, I want to create a bar graph showing the most common words."
   ]
  },
  {
   "cell_type": "code",
   "execution_count": null,
   "id": "6be0d20e",
   "metadata": {},
   "outputs": [],
   "source": [
    "#https://www.earthdatascience.org/courses/use-data-open-source-python/intro-to-apis/calculate-tweet-word-frequencies-in-python/\n",
    "words_split = [tweet.lower().split() for tweet in words_without_stopwords]\n"
   ]
  },
  {
   "cell_type": "code",
   "execution_count": null,
   "id": "79d8f721",
   "metadata": {},
   "outputs": [],
   "source": [
    "import itertools\n",
    "# List of all words across tweets\n",
    "all_words = list(itertools.chain(*words_split))"
   ]
  },
  {
   "cell_type": "code",
   "execution_count": null,
   "id": "3e5eda23",
   "metadata": {},
   "outputs": [],
   "source": [
    "import collections\n",
    "from collections import Counter\n",
    "word_count = collections.Counter(all_words)\n",
    "\n",
    "word_count.most_common(15)"
   ]
  },
  {
   "cell_type": "markdown",
   "id": "26d1db95",
   "metadata": {},
   "source": [
    "The stopwords that I use earlier did not quite do the trick. I am going to use the stopwords from nltk."
   ]
  },
  {
   "cell_type": "code",
   "execution_count": null,
   "id": "8516afca",
   "metadata": {},
   "outputs": [],
   "source": [
    "nltk.download('stopwords')"
   ]
  },
  {
   "cell_type": "code",
   "execution_count": null,
   "id": "922e76b8",
   "metadata": {},
   "outputs": [],
   "source": [
    "# #https://stackoverflow.com/questions/63018726/counter-and-plot-the-most-common-word-in-a-text\n",
    "# tf = Counter(words_without_stopwords)"
   ]
  },
  {
   "cell_type": "code",
   "execution_count": null,
   "id": "b2786e44",
   "metadata": {},
   "outputs": [],
   "source": [
    "#import tweepy as tw\n",
    "import nltk\n",
    "from nltk.corpus import stopwords\n",
    "import re\n",
    "import networkx"
   ]
  },
  {
   "cell_type": "code",
   "execution_count": null,
   "id": "680d221b",
   "metadata": {},
   "outputs": [],
   "source": [
    "stop_words = set(stopwords.words('english'))"
   ]
  },
  {
   "cell_type": "code",
   "execution_count": null,
   "id": "b8083402",
   "metadata": {},
   "outputs": [],
   "source": [
    "tweets_nsw = [[word for word in tweet_words if not word in stop_words]\n",
    "              for tweet_words in words_split]"
   ]
  },
  {
   "cell_type": "code",
   "execution_count": null,
   "id": "41ee2344",
   "metadata": {},
   "outputs": [],
   "source": [
    "all_words_nsw = list(itertools.chain(*tweets_nsw))\n",
    "\n",
    "counts_nsw = collections.Counter(all_words_nsw)\n",
    "\n",
    "counts_nsw.most_common(20)"
   ]
  },
  {
   "cell_type": "markdown",
   "id": "b184b9af",
   "metadata": {},
   "source": [
    "We see that some of the words that can be used to body shame, such as 'short', 'body', 'fat', 'dark' is among the top 20 most common words."
   ]
  },
  {
   "cell_type": "code",
   "execution_count": null,
   "id": "cf3eac99",
   "metadata": {},
   "outputs": [],
   "source": [
    "clean_tweets_nsw = pd.DataFrame(counts_nsw.most_common(20),\n",
    "                             columns=['words', 'count'])\n",
    "\n",
    "fig, ax = plt.subplots(figsize=(8, 8))\n",
    "\n",
    "# Plot horizontal bar graph\n",
    "clean_tweets_nsw.sort_values(by='count').plot.barh(x='words',\n",
    "                      y='count',\n",
    "                      ax=ax,\n",
    "                      color=\"purple\")\n",
    "\n",
    "ax.set_title(\"Common Words Found in Tweets related to body(Without Stop Words)\")\n",
    "\n",
    "plt.show()"
   ]
  },
  {
   "cell_type": "code",
   "execution_count": null,
   "id": "18c0c0c1",
   "metadata": {},
   "outputs": [],
   "source": []
  },
  {
   "cell_type": "code",
   "execution_count": null,
   "id": "7d49cf6c",
   "metadata": {},
   "outputs": [],
   "source": []
  },
  {
   "cell_type": "code",
   "execution_count": null,
   "id": "14e08a27",
   "metadata": {},
   "outputs": [],
   "source": []
  },
  {
   "cell_type": "code",
   "execution_count": null,
   "id": "0e90b47d",
   "metadata": {},
   "outputs": [],
   "source": []
  },
  {
   "cell_type": "code",
   "execution_count": null,
   "id": "1e724ee9",
   "metadata": {},
   "outputs": [],
   "source": [
    "small_data[0:5]"
   ]
  },
  {
   "cell_type": "code",
   "execution_count": null,
   "id": "d0d6716a",
   "metadata": {},
   "outputs": [],
   "source": [
    "# !pip install punkt\n",
    "# !pip install wordnet\n",
    "\n"
   ]
  },
  {
   "cell_type": "code",
   "execution_count": null,
   "id": "4cb0bae6",
   "metadata": {},
   "outputs": [],
   "source": []
  },
  {
   "cell_type": "code",
   "execution_count": null,
   "id": "fe6b6dec",
   "metadata": {},
   "outputs": [],
   "source": []
  },
  {
   "cell_type": "code",
   "execution_count": null,
   "id": "587b0537",
   "metadata": {},
   "outputs": [],
   "source": []
  },
  {
   "cell_type": "code",
   "execution_count": null,
   "id": "1d0f3bf4",
   "metadata": {},
   "outputs": [],
   "source": []
  },
  {
   "cell_type": "code",
   "execution_count": null,
   "id": "d0c1d753",
   "metadata": {},
   "outputs": [],
   "source": []
  },
  {
   "cell_type": "code",
   "execution_count": null,
   "id": "45ab9288",
   "metadata": {},
   "outputs": [],
   "source": []
  },
  {
   "cell_type": "code",
   "execution_count": null,
   "id": "3b47bb50",
   "metadata": {},
   "outputs": [],
   "source": []
  },
  {
   "cell_type": "code",
   "execution_count": null,
   "id": "1abab135",
   "metadata": {},
   "outputs": [],
   "source": []
  },
  {
   "cell_type": "code",
   "execution_count": null,
   "id": "e639ce8a",
   "metadata": {},
   "outputs": [],
   "source": []
  },
  {
   "cell_type": "code",
   "execution_count": null,
   "id": "227ccf7d",
   "metadata": {},
   "outputs": [],
   "source": []
  },
  {
   "cell_type": "code",
   "execution_count": null,
   "id": "f21f0815",
   "metadata": {},
   "outputs": [],
   "source": []
  },
  {
   "cell_type": "code",
   "execution_count": null,
   "id": "1e85a14c",
   "metadata": {},
   "outputs": [],
   "source": []
  },
  {
   "cell_type": "code",
   "execution_count": null,
   "id": "0640e465",
   "metadata": {},
   "outputs": [],
   "source": []
  },
  {
   "cell_type": "code",
   "execution_count": null,
   "id": "aba69ffb",
   "metadata": {},
   "outputs": [],
   "source": []
  },
  {
   "cell_type": "code",
   "execution_count": null,
   "id": "a22e7bab",
   "metadata": {},
   "outputs": [],
   "source": []
  },
  {
   "cell_type": "code",
   "execution_count": null,
   "id": "a8b75521",
   "metadata": {},
   "outputs": [],
   "source": []
  },
  {
   "cell_type": "code",
   "execution_count": null,
   "id": "ff79f299",
   "metadata": {},
   "outputs": [],
   "source": []
  },
  {
   "cell_type": "code",
   "execution_count": null,
   "id": "23355d31",
   "metadata": {},
   "outputs": [],
   "source": []
  },
  {
   "cell_type": "code",
   "execution_count": null,
   "id": "661acef1",
   "metadata": {},
   "outputs": [],
   "source": []
  },
  {
   "cell_type": "code",
   "execution_count": null,
   "id": "82c9aa71",
   "metadata": {},
   "outputs": [],
   "source": []
  },
  {
   "cell_type": "code",
   "execution_count": null,
   "id": "1854ff54",
   "metadata": {},
   "outputs": [],
   "source": []
  },
  {
   "cell_type": "code",
   "execution_count": null,
   "id": "469aa148",
   "metadata": {},
   "outputs": [],
   "source": []
  },
  {
   "cell_type": "code",
   "execution_count": null,
   "id": "b5b897c3",
   "metadata": {},
   "outputs": [],
   "source": []
  },
  {
   "cell_type": "code",
   "execution_count": null,
   "id": "b97e6241",
   "metadata": {},
   "outputs": [],
   "source": []
  },
  {
   "cell_type": "code",
   "execution_count": null,
   "id": "eb3138b9",
   "metadata": {},
   "outputs": [],
   "source": [
    "#word cloud\n",
    "#bar graph\n",
    "#sentiment analysis: most common words "
   ]
  }
 ],
 "metadata": {
  "kernelspec": {
   "display_name": "Python 3",
   "language": "python",
   "name": "python3"
  },
  "language_info": {
   "codemirror_mode": {
    "name": "ipython",
    "version": 3
   },
   "file_extension": ".py",
   "mimetype": "text/x-python",
   "name": "python",
   "nbconvert_exporter": "python",
   "pygments_lexer": "ipython3",
   "version": "3.8.8"
  }
 },
 "nbformat": 4,
 "nbformat_minor": 5
}
